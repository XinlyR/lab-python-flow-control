{
 "cells": [
  {
   "cell_type": "markdown",
   "id": "d3bfc191-8885-42ee-b0a0-bbab867c6f9f",
   "metadata": {
    "tags": []
   },
   "source": [
    "# Lab | Flow Control"
   ]
  },
  {
   "cell_type": "markdown",
   "id": "3851fcd1-cf98-4653-9c89-e003b7ec9400",
   "metadata": {},
   "source": [
    "## Exercise: Managing Customer Orders Optimized\n",
    "\n",
    "In the last lab, you were starting an online store that sells various products. To ensure smooth operations, you developed a program that manages customer orders and inventory.\n",
    "\n",
    "You did so without using flow control. Let's go a step further and improve this code.\n",
    "\n",
    "Follow the steps below to complete the exercise:\n",
    "\n",
    "1. Look at your code from the lab data structures, and improve repeated code with loops.\n",
    "\n",
    "2. Instead of asking the user to input the name of three products that a customer wants to order, do the following:\n",
    "    \n",
    "    a. Prompt the user to enter the name of a product that a customer wants to order.\n",
    "    \n",
    "    b. Add the product name to the \"customer_orders\" set.\n",
    "    \n",
    "    c. Ask the user if they want to add another product (yes/no).\n",
    "    \n",
    "    d. Continue the loop until the user does not want to add another product.\n",
    "\n",
    "3. Instead of updating the inventory by subtracting 1 from the quantity of each product, only do it for  the products that were ordered (those in \"customer_orders\")."
   ]
  },
  {
   "cell_type": "code",
   "execution_count": 23,
   "id": "71c00eaf-528e-43b4-a5c0-a84883419ba5",
   "metadata": {},
   "outputs": [
    {
     "name": "stdin",
     "output_type": "stream",
     "text": [
      "How many t-shirt do you have in stock:  6\n",
      "How many mug do you have in stock:  6\n",
      "How many hat do you have in stock:  6\n",
      "How many book do you have in stock:  6\n",
      "How many keychain do you have in stock:  3\n"
     ]
    },
    {
     "name": "stdout",
     "output_type": "stream",
     "text": [
      "{'t-shirt': 6, 'mug': 6, 'hat': 6, 'book': 6, 'keychain': 3}\n"
     ]
    }
   ],
   "source": [
    "#Define a list called products that contains the following items: \"t-shirt\", \"mug\", \"hat\", \"book\", \"keychain\".\n",
    "\n",
    "#Create an empty dictionary called inventory.\n",
    "products=[\"t-shirt\", \"mug\", \"hat\", \"book\", \"keychain\"]\n",
    "inventory={}\n",
    "for i in products:\n",
    "    values=int(input(f\"How many {i} do you have in stock: \"))\n",
    "    inventory.update({i:values})\n",
    "print(inventory)"
   ]
  },
  {
   "cell_type": "code",
   "execution_count": 21,
   "id": "a49ba21d-85fa-43fe-81a4-3b8e35cd206f",
   "metadata": {},
   "outputs": [
    {
     "name": "stdin",
     "output_type": "stream",
     "text": [
      "Pick one:['t-shirt', 'keychain'] t-shirt\n",
      "Do you want to add another product(Yes/No)? yes\n"
     ]
    },
    {
     "name": "stdout",
     "output_type": "stream",
     "text": [
      "{'t-shirt'}\n"
     ]
    }
   ],
   "source": [
    "#Ask the user to input the quantity of each product available in the inventory. Use the product names from the products list as keys in the inventory dictionary and assign the respective quantities as values.\n",
    "#Create an empty set called customer_orders.\n",
    "#Ask the user to input the name of three products that a customer wants to order (from those in the products list, meaning three products out of \"t-shirt\", \"mug\", \"hat\", \"book\" or \"keychain\". Add each product name to the customer_orders set.\n",
    "#Print the products in the customer_orders set.\n",
    "buy_list=set()\n",
    "order_more=\"Yes\"\n",
    "\n",
    "while order_more==\"Yes\":\n",
    "    choice=input(f\"Pick one:{products}\")\n",
    "    buy_list.add(choice)\n",
    "    products.remove(choice)\n",
    "    order_more=input(\"Do you want to add another product(Yes/No)?\")\n",
    "print(buy_list)\n",
    "    "
   ]
  },
  {
   "cell_type": "code",
   "execution_count": null,
   "id": "2a20ae75-7cdc-4f40-801e-061d77f5a043",
   "metadata": {},
   "outputs": [],
   "source": [
    "#Print the order statistics using the following format:\n",
    "#Order Statistics:\n",
    "#Total Products Ordered: <total_products_ordered>\n",
    "#Percentage of Products Ordered: <percentage_ordered>% \n",
    "\n",
    "torder=len(buy_list)\n",
    "a=int(torder/sum(inventory.values())*100)\n",
    "b=(torder,a)\n",
    "print(b)"
   ]
  },
  {
   "cell_type": "code",
   "execution_count": null,
   "id": "abbb3d2c-4d6b-4f8e-9401-d5c86b2fd5a1",
   "metadata": {},
   "outputs": [],
   "source": [
    "#Update the inventory by subtracting 1 from the quantity of each product. Modify the inventory dictionary accordingly.\n",
    "\n",
    "for y in buy_list:\n",
    "   # print(y)\n",
    "    v=inventory[y]\n",
    "    inventory.update({y:v-1})\n",
    "print(inventory)"
   ]
  },
  {
   "cell_type": "code",
   "execution_count": null,
   "id": "5b6763d3-cacd-40ee-a0ed-5258488fd250",
   "metadata": {},
   "outputs": [],
   "source": [
    "#Print the updated inventory, displaying the quantity of each product on separate lines.\n",
    "#Solve the exercise by implementing the steps using the Python concepts of lists, dictionaries, sets, and basic input/output operations.\n",
    "for z in inventory:\n",
    "    print(z+\":\"+str(inventory[z]))"
   ]
  }
 ],
 "metadata": {
  "kernelspec": {
   "display_name": "Python 3 (ipykernel)",
   "language": "python",
   "name": "python3"
  },
  "language_info": {
   "codemirror_mode": {
    "name": "ipython",
    "version": 3
   },
   "file_extension": ".py",
   "mimetype": "text/x-python",
   "name": "python",
   "nbconvert_exporter": "python",
   "pygments_lexer": "ipython3",
   "version": "3.12.4"
  }
 },
 "nbformat": 4,
 "nbformat_minor": 5
}
